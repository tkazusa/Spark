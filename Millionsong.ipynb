{
 "cells": [
  {
   "cell_type": "code",
   "execution_count": 1,
   "metadata": {
    "collapsed": true
   },
   "outputs": [],
   "source": [
    "labVersion = 'cs190_week3_v_1_3'\n",
    "from pyspark.mllib.regression import LinearRegressionWithSGD\n",
    "from pyspark.mllib.regression import LabeledPoint\n",
    "from test_helper import Test\n",
    "import numpy as np"
   ]
  },
  {
   "cell_type": "code",
   "execution_count": 2,
   "metadata": {
    "collapsed": false
   },
   "outputs": [],
   "source": [
    "# load testing library\n",
    "from test_helper import Test\n",
    "import os.path\n",
    "baseDir = os.path.join('data')\n",
    "inputPath = os.path.join('cs190', 'millionsong.txt')\n",
    "fileName = os.path.join(baseDir, inputPath)\n",
    "\n",
    "numPartitions = 2\n",
    "rawData = sc.textFile(fileName, numPartitions)"
   ]
  },
  {
   "cell_type": "code",
   "execution_count": 54,
   "metadata": {
    "collapsed": false
   },
   "outputs": [
    {
     "name": "stdout",
     "output_type": "stream",
     "text": [
      "[u'2001.0,0.884123733793,0.610454259079,0.600498416968,0.474669212493,0.247232680947,0.357306088914,0.344136412234,0.339641227335,0.600858840135,0.425704689024,0.60491501652,0.419193351817', u'2001.0,0.854411946129,0.604124786151,0.593634078776,0.495885413963,0.266307830936,0.261472105188,0.506387076327,0.464453565511,0.665798573683,0.542968988766,0.58044428577,0.445219373624', u'2001.0,0.908982970575,0.632063159227,0.557428975183,0.498263761394,0.276396052336,0.312809861625,0.448530069406,0.448674249968,0.649791323916,0.489868662682,0.591908113534,0.4500023818', u'2001.0,0.842525219898,0.561826888508,0.508715259692,0.443531142139,0.296733836002,0.250213568176,0.488540873206,0.360508747659,0.575435243185,0.361005878554,0.678378718617,0.409036786173', u'2001.0,0.909303285534,0.653607720915,0.585580794716,0.473250503005,0.251417011835,0.326976795524,0.40432273022,0.371154511756,0.629401917965,0.482243251755,0.566901413923,0.463373691946']\n"
     ]
    }
   ],
   "source": [
    "samplePoints = rawData.take(5)\n",
    "print samplePoints"
   ]
  },
  {
   "cell_type": "code",
   "execution_count": 57,
   "metadata": {
    "collapsed": false
   },
   "outputs": [
    {
     "name": "stdout",
     "output_type": "stream",
     "text": [
      "[LabeledPoint(2001.0, [0.884123733793,0.610454259079,0.600498416968,0.474669212493,0.247232680947,0.357306088914,0.344136412234,0.339641227335,0.600858840135,0.425704689024,0.60491501652,0.419193351817]), LabeledPoint(2001.0, [0.854411946129,0.604124786151,0.593634078776,0.495885413963,0.266307830936,0.261472105188,0.506387076327,0.464453565511,0.665798573683,0.542968988766,0.58044428577,0.445219373624]), LabeledPoint(2001.0, [0.908982970575,0.632063159227,0.557428975183,0.498263761394,0.276396052336,0.312809861625,0.448530069406,0.448674249968,0.649791323916,0.489868662682,0.591908113534,0.4500023818])]\n"
     ]
    }
   ],
   "source": [
    "def parsePoint(line):\n",
    "\n",
    "    tokens = line.split(',')\n",
    "    label = tokens[0]\n",
    "    features = tokens[1:]\n",
    "    return LabeledPoint(label, features)\n",
    "\n",
    "parsedData = rawData.map(parsePoint)\n",
    "\n",
    "print parsedData.take(3)"
   ]
  },
  {
   "cell_type": "code",
   "execution_count": 58,
   "metadata": {
    "collapsed": false
   },
   "outputs": [],
   "source": [
    "#Devide rawData into Traning, Validation and Test\n",
    "weights = [.8, .1, .1]\n",
    "seed = 50\n",
    "parsedTrainData, parsedValData, parsedTestData = parsedData.randomSplit(weights, seed)"
   ]
  },
  {
   "cell_type": "code",
   "execution_count": 64,
   "metadata": {
    "collapsed": false
   },
   "outputs": [
    {
     "name": "stdout",
     "output_type": "stream",
     "text": [
      "(weights=[348.391703677,312.158507888,303.514705245,268.768326368,260.265535915,321.082923267,345.636059404,369.96940298,414.587178279,328.611497772,389.972179858,348.42792115], intercept=0.0)\n"
     ]
    }
   ],
   "source": [
    "# Fit the model with default values\n",
    "fitModel = LinearRegressionWithSGD.train(parsedTrainData)\n",
    "print  fitModel"
   ]
  },
  {
   "cell_type": "code",
   "execution_count": 65,
   "metadata": {
    "collapsed": false
   },
   "outputs": [
    {
     "name": "stdout",
     "output_type": "stream",
     "text": [
      "2001.0\n",
      "1961.07799016\n"
     ]
    }
   ],
   "source": [
    "# Prediction \n",
    "testPoint = parsedTrainData.take(1)[0]\n",
    "\n",
    "print testPoint.label\n",
    "\n",
    "testPrediction = fitModel.predict(testPoint.features)\n",
    "\n",
    "print samplePrediction"
   ]
  },
  {
   "cell_type": "code",
   "execution_count": 16,
   "metadata": {
    "collapsed": false
   },
   "outputs": [],
   "source": [
    "# Define a formula to caluculate RMSE(Root Mean Square Error)\n",
    "def squaredError(label, prediction):\n",
    "    ##Calculates the the squared error for a single prediction.\n",
    "    return (label - prediction)**2\n",
    "\n",
    "def calcRMSE(labelsAndPreds):\n",
    "    ##Calculates the root mean squared error for an `RDD` of (label, prediction) tuples.\n",
    "    return np.sqrt(labelsAndPreds\n",
    "                   .map(lambda (label, prediction): squaredError(label, prediction))\n",
    "                   .mean())"
   ]
  },
  {
   "cell_type": "code",
   "execution_count": 40,
   "metadata": {
    "collapsed": false
   },
   "outputs": [
    {
     "name": "stdout",
     "output_type": "stream",
     "text": [
      "108.398553837\n"
     ]
    }
   ],
   "source": [
    "#Create new RDD with actual label and predicted label \n",
    "labelsAndPreds = parsedValData.map(lambda lp: (lp.label, fitModel.predict(lp.features)))\n",
    "\n",
    "#Calculation RMSE\n",
    "rmseValLR1 = calcRMSE(labelsAndPreds)\n",
    "print rmseValLR1"
   ]
  },
  {
   "cell_type": "code",
   "execution_count": 67,
   "metadata": {
    "collapsed": false
   },
   "outputs": [
    {
     "name": "stdout",
     "output_type": "stream",
     "text": [
      "best_alpha:1e-05,best_numIter:50, best_reg:1e-05, best_rmseVal:1971.21704067\n",
      "best_alpha:1e-05,best_numIter:50, best_reg:0.0, best_rmseVal:1971.21704067\n",
      "best_alpha:1e-05,best_numIter:50, best_reg:1.0, best_rmseVal:1971.21704067\n",
      "best_alpha:1e-05,best_numIter:100, best_reg:1e-05, best_rmseVal:1971.21704067\n",
      "best_alpha:1e-05,best_numIter:100, best_reg:0.0, best_rmseVal:1971.21704067\n",
      "best_alpha:1e-05,best_numIter:100, best_reg:1.0, best_rmseVal:1971.21704067\n",
      "best_alpha:1e-05,best_numIter:500, best_reg:1e-05, best_rmseVal:1971.21704067\n",
      "best_alpha:1e-05,best_numIter:500, best_reg:0.0, best_rmseVal:1971.21704067\n",
      "best_alpha:1e-05,best_numIter:500, best_reg:1.0, best_rmseVal:1971.21704067\n",
      "best_alpha:1.0,best_numIter:50, best_reg:1e-05, best_rmseVal:108.398553837\n",
      "best_alpha:1.0,best_numIter:50, best_reg:0.0, best_rmseVal:108.398553837\n",
      "best_alpha:1.0,best_numIter:50, best_reg:1.0, best_rmseVal:108.398553837\n",
      "best_alpha:1.0,best_numIter:100, best_reg:1e-05, best_rmseVal:108.398553837\n",
      "best_alpha:1.0,best_numIter:100, best_reg:0.0, best_rmseVal:108.398553837\n",
      "best_alpha:1.0,best_numIter:100, best_reg:1.0, best_rmseVal:108.398553837\n",
      "best_alpha:1.0,best_numIter:500, best_reg:1e-05, best_rmseVal:108.398553837\n",
      "best_alpha:1.0,best_numIter:500, best_reg:0.0, best_rmseVal:108.398553837\n",
      "best_alpha:1.0,best_numIter:500, best_reg:1.0, best_rmseVal:108.398553837\n",
      "best_alpha:10,best_numIter:50, best_reg:1e-05, best_rmseVal:6.93276536629e+131\n",
      "best_alpha:10,best_numIter:50, best_reg:0.0, best_rmseVal:6.93276536629e+131\n",
      "best_alpha:10,best_numIter:50, best_reg:1.0, best_rmseVal:6.93276536629e+131\n",
      "best_alpha:10,best_numIter:100, best_reg:1e-05, best_rmseVal:6.93276536629e+131\n",
      "best_alpha:10,best_numIter:100, best_reg:0.0, best_rmseVal:6.93276536629e+131\n",
      "best_alpha:10,best_numIter:100, best_reg:1.0, best_rmseVal:6.93276536629e+131\n",
      "best_alpha:10,best_numIter:500, best_reg:1e-05, best_rmseVal:6.93276536629e+131\n",
      "best_alpha:10,best_numIter:500, best_reg:0.0, best_rmseVal:6.93276536629e+131\n",
      "best_alpha:10,best_numIter:500, best_reg:1.0, best_rmseVal:6.93276536629e+131\n",
      "best_alpha:100,best_numIter:50, best_reg:1e-05, best_rmseVal:nan\n",
      "best_alpha:100,best_numIter:50, best_reg:0.0, best_rmseVal:nan\n",
      "best_alpha:100,best_numIter:50, best_reg:1.0, best_rmseVal:nan\n",
      "best_alpha:100,best_numIter:100, best_reg:1e-05, best_rmseVal:nan\n",
      "best_alpha:100,best_numIter:100, best_reg:0.0, best_rmseVal:nan\n",
      "best_alpha:100,best_numIter:100, best_reg:1.0, best_rmseVal:nan\n",
      "best_alpha:100,best_numIter:500, best_reg:1e-05, best_rmseVal:nan\n",
      "best_alpha:100,best_numIter:500, best_reg:0.0, best_rmseVal:nan\n",
      "best_alpha:100,best_numIter:500, best_reg:1.0, best_rmseVal:nan\n"
     ]
    }
   ],
   "source": [
    "##Grid search\n",
    "# Values to use when training the linear regression model\n",
    "miniBatchFrac = 1.0  # miniBatchFraction\n",
    "regType = 'l2'  # regType\n",
    "useIntercept = True  # intercept\n",
    "\n",
    "# Seed of minmum RMSE\n",
    "min_rmseVal = 10**10\n",
    "\n",
    "modelRMSEs = []\n",
    "\n",
    "for grid_alpha in [1e-5,1.0,10,100]:\n",
    "    for grid_numIters in [50,100,500]:\n",
    "        for grid_reg in [1e-5,0.0, 1.0]:\n",
    "            model = LinearRegressionWithSGD.train(parsedTrainData,\n",
    "                                                  iterations=numIters, \n",
    "                                                  step=grid_alpha, \n",
    "                                                  miniBatchFraction=miniBatchFrac, \n",
    "                                                  initialWeights=None, \n",
    "                                                  regParam=reg, \n",
    "                                                  regType=regType, \n",
    "                                                  intercept=useIntercept)\n",
    "            \n",
    "            labelsAndPreds = parsedValData.map(lambda lp: (lp.label, model.predict(lp.features)))\n",
    "            rmseVal = calcRMSE(labelsAndPreds)\n",
    "            print \"best_alpha:{},best_numIter:{}, best_reg:{}, best_rmseVal:{}\".format(grid_alpha, grid_numIters, grid_reg, rmseVal)"
   ]
  },
  {
   "cell_type": "code",
   "execution_count": 1,
   "metadata": {
    "collapsed": false
   },
   "outputs": [
    {
     "ename": "NameError",
     "evalue": "name 'LinearRegressionWithSGD' is not defined",
     "output_type": "error",
     "traceback": [
      "\u001b[1;31m---------------------------------------------------------------------------\u001b[0m",
      "\u001b[1;31mNameError\u001b[0m                                 Traceback (most recent call last)",
      "\u001b[1;32m<ipython-input-1-2de9abd76cec>\u001b[0m in \u001b[0;36m<module>\u001b[1;34m()\u001b[0m\n\u001b[1;32m----> 1\u001b[1;33m Final_model = LinearRegressionWithSGD.train(parsedTrainData,\n\u001b[0m\u001b[0;32m      2\u001b[0m                                            \u001b[0miterations\u001b[0m\u001b[1;33m=\u001b[0m\u001b[1;36m10\u001b[0m\u001b[1;33m,\u001b[0m\u001b[1;33m\u001b[0m\u001b[0m\n\u001b[0;32m      3\u001b[0m                                            \u001b[0mstep\u001b[0m\u001b[1;33m=\u001b[0m\u001b[1;36m500\u001b[0m\u001b[1;33m,\u001b[0m\u001b[1;33m\u001b[0m\u001b[0m\n\u001b[0;32m      4\u001b[0m                                            \u001b[0mminiBatchFraction\u001b[0m\u001b[1;33m=\u001b[0m\u001b[0mminiBatchFrac\u001b[0m\u001b[1;33m,\u001b[0m\u001b[1;33m\u001b[0m\u001b[0m\n\u001b[0;32m      5\u001b[0m                                            \u001b[0minitialWeights\u001b[0m\u001b[1;33m=\u001b[0m\u001b[0mNone\u001b[0m\u001b[1;33m,\u001b[0m\u001b[1;33m\u001b[0m\u001b[0m\n",
      "\u001b[1;31mNameError\u001b[0m: name 'LinearRegressionWithSGD' is not defined"
     ]
    }
   ],
   "source": [
    "#Fitting with figures fixed by grid search \n",
    "Final_model = LinearRegressionWithSGD.train(parsedTrainData,\n",
    "                                           iterations=10, \n",
    "                                           step=500, \n",
    "                                           miniBatchFraction=miniBatchFrac, \n",
    "                                           initialWeights=None, \n",
    "                                           regParam = 1e-05, \n",
    "                                           regType=regType, \n",
    "                                           intercept=useIntercept)"
   ]
  },
  {
   "cell_type": "code",
   "execution_count": 70,
   "metadata": {
    "collapsed": false
   },
   "outputs": [
    {
     "name": "stdout",
     "output_type": "stream",
     "text": [
      "2001.0\n",
      "[0.884123733793,0.610454259079,0.600498416968,0.474669212493,0.247232680947,0.357306088914,0.344136412234,0.339641227335,0.600858840135,0.425704689024,0.60491501652,0.419193351817]\n",
      "-8.51546268703e+32\n"
     ]
    }
   ],
   "source": [
    "#Labels comparison between Final_model and actual data. \n",
    "Final_testPoint = parsedTrainData.take(1)[0]\n",
    "print Final_testPoint.label\n",
    "print Final_testPoint.features\n",
    "\n",
    "Final_Prediction = Final_model.predict(Final_testPoint.features)\n",
    "print Final_Prediction"
   ]
  }
 ],
 "metadata": {
  "kernelspec": {
   "display_name": "Python 2",
   "language": "python",
   "name": "python2"
  },
  "language_info": {
   "codemirror_mode": {
    "name": "ipython",
    "version": 2
   },
   "file_extension": ".py",
   "mimetype": "text/x-python",
   "name": "python",
   "nbconvert_exporter": "python",
   "pygments_lexer": "ipython2",
   "version": "2.7.6"
  }
 },
 "nbformat": 4,
 "nbformat_minor": 0
}
