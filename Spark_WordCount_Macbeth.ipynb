{
 "cells": [
  {
   "cell_type": "markdown",
   "metadata": {},
   "source": [
    "# Building a word count application"
   ]
  },
  {
   "cell_type": "markdown",
   "metadata": {},
   "source": [
    "### Overview"
   ]
  },
  {
   "cell_type": "markdown",
   "metadata": {},
   "source": [
    "This lab will build on the techniques covered in the Spark tutorial to develop a simple word count application. I will write code that calculates the most common words with fundamental Spark functions such as \"map\", \"flatmap\", \"keyGroupby\", etc. The text data used in this work is \"Macbeth\" written by shakespeare from \"OpensourceShakespeare(http://www.opensourceshakespeare.org/)\""
   ]
  },
  {
   "cell_type": "markdown",
   "metadata": {},
   "source": [
    "### Procedure"
   ]
  },
  {
   "cell_type": "markdown",
   "metadata": {},
   "source": [
    "①Create a RDD generated from text data and remove marks\n",
    "\n",
    "②Split each lines to words by its spaces and filter out empty elements\n",
    "\n",
    "③Sorted and shown to 15 common words in Machbeth"
   ]
  },
  {
   "cell_type": "code",
   "execution_count": 1,
   "metadata": {
    "collapsed": true
   },
   "outputs": [],
   "source": [
    "def wordCount(wordListRDD):\n",
    "    return wordListRDD.map(lambda w: (w, 1)).reduceByKey(lambda a, b: a + b)"
   ]
  },
  {
   "cell_type": "code",
   "execution_count": 2,
   "metadata": {
    "collapsed": false,
    "scrolled": true
   },
   "outputs": [
    {
     "name": "stdout",
     "output_type": "stream",
     "text": [
      "0:  thunder and lightning  enter three witches \n",
      "1: \n",
      "2:     first witch  when shall we three meet again\n",
      "3:     in thunder  lightning  or in rain  \n",
      "4: \n",
      "5:     second witch  when the hurlyburly's done \n",
      "6:     when the battle's lost and won  5\n",
      "7: \n",
      "8:     third witch  that will be ere the set of sun  \n",
      "9: \n"
     ]
    }
   ],
   "source": [
    "macbethRDD = (sc\n",
    "              .textFile(\"Macbeth.txt\")\n",
    "              .map(lambda x: x.replace(',',' ').replace('.',' ').replace('-',' ').replace('?',' ').replace('[',' ').replace(']',' ')\n",
    "                   .lower()))\n",
    "\n",
    "print '\\n'.join(macbethRDD\n",
    "                .zipWithIndex()  # to (line, lineNum)\n",
    "                .map(lambda (l, num): '{0}: {1}'.format(num, l))  # to 'lineNum: line'\n",
    "                .take(10))"
   ]
  },
  {
   "cell_type": "code",
   "execution_count": 3,
   "metadata": {
    "collapsed": false
   },
   "outputs": [
    {
     "name": "stdout",
     "output_type": "stream",
     "text": [
      "the: 731\n",
      "and: 565\n",
      "to: 398\n",
      "of: 342\n",
      "i: 314\n",
      "macbeth: 267\n",
      "a: 250\n",
      "that: 225\n",
      "in: 205\n",
      "my: 192\n",
      "you: 190\n",
      "is: 185\n",
      "not: 159\n",
      "with: 155\n",
      "it: 145\n",
      "18882\n"
     ]
    }
   ],
   "source": [
    "macbethWordsRDD = (macbethRDD\n",
    "                   .flatMap(lambda line: line.split(' '))\n",
    "                   .filter(lambda w: w != ''))\n",
    "macbethWordsCount = macbethWordsRDD.count()\n",
    "top15WordsAndCounts = wordCount(macbethWordsRDD ).takeOrdered(15, lambda (k, v): v * -1)\n",
    "\n",
    "print '\\n'.join(map(lambda (w, c): '{0}: {1}'.format(w, c), top15WordsAndCounts))\n",
    "print macbethWordsCount"
   ]
  },
  {
   "cell_type": "code",
   "execution_count": null,
   "metadata": {
    "collapsed": true
   },
   "outputs": [],
   "source": []
  },
  {
   "cell_type": "code",
   "execution_count": null,
   "metadata": {
    "collapsed": true
   },
   "outputs": [],
   "source": []
  },
  {
   "cell_type": "code",
   "execution_count": null,
   "metadata": {
    "collapsed": true
   },
   "outputs": [],
   "source": []
  }
 ],
 "metadata": {
  "kernelspec": {
   "display_name": "Python 2",
   "language": "python",
   "name": "python2"
  },
  "language_info": {
   "codemirror_mode": {
    "name": "ipython",
    "version": 2
   },
   "file_extension": ".py",
   "mimetype": "text/x-python",
   "name": "python",
   "nbconvert_exporter": "python",
   "pygments_lexer": "ipython2",
   "version": "2.7.11"
  }
 },
 "nbformat": 4,
 "nbformat_minor": 0
}
