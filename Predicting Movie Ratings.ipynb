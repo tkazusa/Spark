{
 "cells": [
  {
   "cell_type": "markdown",
   "metadata": {},
   "source": [
    "## Movie Recommendation with MLlib"
   ]
  },
  {
   "cell_type": "markdown",
   "metadata": {},
   "source": [
    "### Overview"
   ]
  },
  {
   "cell_type": "markdown",
   "metadata": {},
   "source": [
    "In this case, movie recommendation system is implemented with Spark MLlib. I use a subset dataset of 500,000 ratings from [the movielens 10M stable benchmark rating dataset](http://grouplens.org/datasets/movielens/). The code below is implemented based on my understanding of the lecture of [edX CS100.1x Introduction to Big Data with Apache Spark](https://courses.edx.org/courses/BerkeleyX/CS100.1x/1T2015/)."
   ]
  },
  {
   "cell_type": "markdown",
   "metadata": {},
   "source": [
    "### Procedure"
   ]
  },
  {
   "cell_type": "markdown",
   "metadata": {},
   "source": [
    "1. Data loading\n",
    "2. Filter our movies with high ratings but fewer than or equal to 500 reviews\n",
    "3. Implement collaborative filtering with MLlib\n",
    " * Raw data is split into training, validation and test dataset\n",
    " * Model is trained with ALS algorithm, parameters are grid-searched\n",
    " * RMSE is used as a metrix\n",
    "4. Predict my ratings\n",
    " * Adding my movie rating as a userID\"0\"\n",
    " * Algorithm predicts what movies to recommend"
   ]
  },
  {
   "cell_type": "markdown",
   "metadata": {},
   "source": [
    "## Loading datasets "
   ]
  },
  {
   "cell_type": "markdown",
   "metadata": {},
   "source": [
    "In this exercise, two datasets are used and a line in the ratings dataset is in the form of UserID::MovieID::Rating::Timestamp and in the movies dataset, line is in the form of MovieID::Title::Genres."
   ]
  },
  {
   "cell_type": "code",
   "execution_count": 1,
   "metadata": {
    "collapsed": false,
    "scrolled": true
   },
   "outputs": [
    {
     "name": "stdout",
     "output_type": "stream",
     "text": [
      "There are 1000209 ratings and 3883 movies in the datasets\n",
      "Ratings: [(1, 1193, 5.0), (1, 661, 3.0), (1, 914, 3.0)]\n",
      "Movies: [(1, u'Toy Story (1995)'), (2, u'Jumanji (1995)'), (3, u'Grumpier Old Men (1995)')]\n"
     ]
    }
   ],
   "source": [
    "numPartitions = 2\n",
    "\n",
    "ratingFileName = \"ratings.txt\"\n",
    "rawRatings = sc.textFile(ratingFileName, numPartitions)\n",
    "\n",
    "moviesFileName = \"movies.txt\"\n",
    "rawMovies = sc.textFile(moviesFileName, numPartitions)\n",
    "\n",
    "def get_ratings_tuple(entry):\n",
    "    items = entry.split('::')\n",
    "    return int(items[0]), int(items[1]), float(items[2])\n",
    "\n",
    "def get_movie_tuple(entry):\n",
    "    items = entry.split('::')\n",
    "    return int(items[0]), items[1]\n",
    "\n",
    "ratingsRDD = rawRatings.map(get_ratings_tuple).cache()\n",
    "moviesRDD = rawMovies.map(get_movie_tuple).cache()\n",
    "\n",
    "ratingsCount = ratingsRDD.count()\n",
    "moviesCount = moviesRDD.count()\n",
    "\n",
    "print 'There are %s ratings and %s movies in the datasets' % (ratingsCount, moviesCount)\n",
    "print 'Ratings: %s' % ratingsRDD.take(3)\n",
    "print 'Movies: %s' % moviesRDD.take(3)"
   ]
  },
  {
   "cell_type": "markdown",
   "metadata": {},
   "source": [
    "### Reccomend movies with high average rating"
   ]
  },
  {
   "cell_type": "markdown",
   "metadata": {},
   "source": [
    "RDD is manipulated to find the name, number of ratings, and the average rating of the 10 movies with the highest average rating and more than 500 reviews."
   ]
  },
  {
   "cell_type": "code",
   "execution_count": 2,
   "metadata": {
    "collapsed": false
   },
   "outputs": [
    {
     "name": "stdout",
     "output_type": "stream",
     "text": [
      "movieNameWithAvgRatingsRDD: [(3.49618320610687, u'Great Mouse Detective, The (1986)', 2048), (3.7871690427698574, u'Moonstruck (1987)', 3072), (2.7294117647058824, u'Waiting to Exhale (1995)', 4)]\n",
      "\n",
      "Movies with highest ratings:\n",
      "(average rating, movie name, number of reviews)\n",
      "(5.0, u'Ulysses (Ulisse) (1954)', 3172)\n",
      "(5.0, u'Song of Freedom (1936)', 3382)\n",
      "(5.0, u'Smashing Time (1967)', 3233)\n",
      "(5.0, u'Schlafes Bruder (Brother of Sleep) (1995)', 989)\n",
      "(5.0, u'One Little Indian (1973)', 3607)\n",
      "(5.0, u'Lured (1947)', 3656)\n",
      "(5.0, u'Gate of Heavenly Peace, The (1995)', 787)\n",
      "(5.0, u'Follow the Bitch (1998)', 1830)\n",
      "(5.0, u'Bittersweet Motel (2000)', 3881)\n",
      "(5.0, u'Baby, The (1973)', 3280)\n"
     ]
    }
   ],
   "source": [
    "def getCountsAndAverages(IDandRatingsTuple):\n",
    "    aggr_result = (IDandRatingsTuple[0], (len(IDandRatingsTuple[1]), float(sum(IDandRatingsTuple[1])) / len(IDandRatingsTuple[1])))\n",
    "    return aggr_result\n",
    "\n",
    "\n",
    "movieNameWithAvgRatingsRDD = (ratingsRDD\n",
    "                          .map(lambda x:(x[1], x[2]))\n",
    "                          .groupByKey()\n",
    "                          .map(getCountsAndAverages)\n",
    "                          .join(moviesRDD)\n",
    "                          .map(lambda x:(x[1][0][1], x[1][1], x[0])))\n",
    "\n",
    "\n",
    "print 'movieNameWithAvgRatingsRDD: %s\\n' % movieNameWithAvgRatingsRDD.take(3)\n",
    "\n",
    "\n",
    "def sortFunction(tuple):\n",
    "    key = unicode('%.3f' % tuple[0])\n",
    "    value = tuple[1]\n",
    "    return (key + ' ' + value)\n",
    "\n",
    "movieLimitedAndSortedByRatingRDD = (movieNameWithAvgRatingsRDD\n",
    "                                    .filter(lambda x: (x[2] > 500))\n",
    "                                    .sortBy(sortFunction, False))\n",
    "\n",
    "print 'Movies with highest ratings:'\n",
    "print '(average rating, movie name, number of reviews)'\n",
    "for ratingsTuple in movieLimitedAndSortedByRatingRDD.take(10):\n",
    "    print ratingsTuple"
   ]
  },
  {
   "cell_type": "markdown",
   "metadata": {},
   "source": [
    "## Deployment of recommendation system with collaboration filtering"
   ]
  },
  {
   "cell_type": "code",
   "execution_count": 3,
   "metadata": {
    "collapsed": false,
    "scrolled": false
   },
   "outputs": [
    {
     "name": "stdout",
     "output_type": "stream",
     "text": [
      "Training: 600364, validation: 199815, test: 200030\n",
      "\n",
      "[(1, 661, 3.0), (1, 914, 3.0), (1, 1197, 3.0)]\n",
      "[(1, 3408, 4.0), (1, 2355, 5.0), (1, 938, 4.0)]\n",
      "[(1, 1193, 5.0), (1, 1287, 5.0), (1, 2804, 5.0)]\n",
      "[(1, 3408), (1, 2355), (1, 938)]\n",
      "[((1, 3408), 4.0), ((1, 2355), 5.0), ((1, 938), 4.0)]\n"
     ]
    }
   ],
   "source": [
    "trainingRDD, validationRDD, testRDD = ratingsRDD.randomSplit([6, 2, 2], seed=0)\n",
    "\n",
    "print 'Training: %s, validation: %s, test: %s\\n' % (trainingRDD.count(),\n",
    "                                                    validationRDD.count(),\n",
    "                                                    testRDD.count())\n",
    "print trainingRDD.take(3)\n",
    "print validationRDD.take(3)\n",
    "print testRDD.take(3)\n",
    "\n",
    "validationForPredictRDD = validationRDD.map(lambda x: (x[0], x[1]))\n",
    "print validationForPredictRDD.take(3)\n",
    "\n",
    "actualReformattedRDD = validationRDD.map(lambda x: ((x[0], x[1]), x[2]))\n",
    "print actualReformattedRDD.take(3)"
   ]
  },
  {
   "cell_type": "markdown",
   "metadata": {},
   "source": [
    "### Train a model with ALM algorithm"
   ]
  },
  {
   "cell_type": "code",
   "execution_count": 9,
   "metadata": {
    "collapsed": false
   },
   "outputs": [
    {
     "name": "stdout",
     "output_type": "stream",
     "text": [
      "For rank 4 and itereation 5, the RMSE is 0.903719946201\n",
      "For rank 4 and itereation 7, the RMSE is 0.893408395534\n",
      "For rank 4 and itereation 10, the RMSE is 0.886260195446\n",
      "For rank 8 and itereation 5, the RMSE is 0.89365207233\n",
      "For rank 8 and itereation 7, the RMSE is 0.883901283207\n",
      "For rank 8 and itereation 10, the RMSE is 0.876701840863\n",
      "For rank 12 and itereation 5, the RMSE is 0.887127524585\n",
      "For rank 12 and itereation 7, the RMSE is 0.87863327159\n",
      "For rank 12 and itereation 10, the RMSE is 0.872532683651\n",
      "The best model was trained with rank 12 and iteratin 10\n"
     ]
    }
   ],
   "source": [
    "from pyspark.mllib.recommendation import ALS\n",
    "from pyspark.mllib.evaluation import RegressionMetrics\n",
    "\n",
    "seed = 5L\n",
    "iterations = [5,7,10]\n",
    "regularizationParameter = 0.1\n",
    "ranks = [4, 8, 12]\n",
    "RMSEs = [0, 0, 0, 0, 0, 0, 0, 0, 0]\n",
    "err = 0\n",
    "tolerance = 0.03\n",
    "\n",
    "minRMSE = float('inf')\n",
    "bestRank = -1\n",
    "bestIteretion = -1\n",
    "for rank in ranks:\n",
    "    for iteration in iterations:\n",
    "        model = ALS.train(trainingRDD,\n",
    "                          rank,\n",
    "                          seed=seed,\n",
    "                          iterations=iteration,\n",
    "                          lambda_=regularizationParameter)\n",
    "        \n",
    "        predictedRatingsRDD = model.predictAll(validationForPredictRDD)\n",
    "        predictedReformattedRDD = predictedRatingsRDD.map(lambda x: ((x[0], x[1]), x[2]))\n",
    "    \n",
    "        predictionAndObservations = (predictedReformattedRDD\n",
    "                                     .join(actualReformattedRDD)\n",
    "                                     .map(lambda x: x[1]))\n",
    "    \n",
    "        metrics = RegressionMetrics(predictionAndObservations)\n",
    "        RMSE = metrics.rootMeanSquaredError\n",
    "        RMSEs[err] = RMSE\n",
    "        err += 1\n",
    "        \n",
    "        print 'For rank %s and itereation %s, the RMSE is %s' % (rank, iteration, RMSE)\n",
    "        if RMSE < minRMSE:\n",
    "            minRMSE = RMSE\n",
    "            bestIteretion = iteration\n",
    "            bestRank = rank\n",
    "            \n",
    "\n",
    "print 'The best model was trained with rank %s and iteratin %s'  % (bestRank, bestIteretion)"
   ]
  },
  {
   "cell_type": "markdown",
   "metadata": {},
   "source": [
    "### Checking the best model with test data"
   ]
  },
  {
   "cell_type": "code",
   "execution_count": 10,
   "metadata": {
    "collapsed": false
   },
   "outputs": [
    {
     "name": "stdout",
     "output_type": "stream",
     "text": [
      "The model had a RMSE on the test set of 0.87447554868\n"
     ]
    }
   ],
   "source": [
    "bestModel = ALS.train(trainingRDD,\n",
    "                      bestRank,\n",
    "                      seed=seed,\n",
    "                      iterations=bestIteretion,\n",
    "                      lambda_=regularizationParameter)\n",
    "\n",
    "testForPredictingRDD = testRDD.map(lambda x: (x[0], x[1]))\n",
    "testReformattedRDD = testRDD.map(lambda x: ((x[0], x[1]), x[2]))\n",
    "\n",
    "predictedTestRDD = bestModel.predictAll(testForPredictingRDD)\n",
    "predictedTestReformattedRDD = predictedTestRDD.map(lambda x: ((x[0], x[1]), x[2]))\n",
    "\n",
    "predictionAndObservationsTest = (predictedTestReformattedRDD\n",
    "                             .join(testReformattedRDD)\n",
    "                             .map(lambda x: x[1]))\n",
    "\n",
    "metrics = RegressionMetrics(predictionAndObservationsTest)\n",
    "testRMSE = metrics.rootMeanSquaredError\n",
    "\n",
    "print 'The model had a RMSE on the test set of %s' % testRMSE"
   ]
  },
  {
   "cell_type": "markdown",
   "metadata": {},
   "source": [
    "## Predict my ratings"
   ]
  },
  {
   "cell_type": "markdown",
   "metadata": {},
   "source": [
    "By adding my movie rating to datasets as userId\"0\", the algorithm predicts what movies to recommend to me."
   ]
  },
  {
   "cell_type": "code",
   "execution_count": 11,
   "metadata": {
    "collapsed": false
   },
   "outputs": [
    {
     "name": "stdout",
     "output_type": "stream",
     "text": [
      "My highest rated movies as predicted (for movies with more than 75 reviews):\n",
      "(4.74482593848827, u'Sound of Music, The (1965)', 882)\n",
      "(4.580669496447569, u'Mary Poppins (1964)', 1011)\n",
      "(4.486424714752521, u'Beauty and the Beast (1991)', 1060)\n",
      "(4.478042748281928, u'Mulan (1998)', 490)\n",
      "(4.477453571213953, u'Toy Story 2 (1999)', 1585)\n",
      "(4.439390718632932, u'Fantasia 2000 (1999)', 453)\n",
      "(4.405894101045507, u'FairyTale: A True Story (1997)', 87)\n",
      "(4.4030583744108425, u\"Singin' in the Rain (1952)\", 751)\n",
      "(4.390333274084924, u'Top Hat (1935)', 251)\n",
      "(4.347757079374581, u'Gone with the Wind (1939)', 1156)\n"
     ]
    }
   ],
   "source": [
    "myUserID = 0\n",
    "myRatedMovies = [(myUserID, 1, 5), #Toy Story\n",
    "                 (myUserID, 648, 3), # Mission Impossible\n",
    "                 (myUserID, 1580, 4), # Men In Black\n",
    "                 (myUserID, 1097, 3), # ET\n",
    "                 (myUserID, 3247, 5)] #Sister Act\n",
    "\n",
    "myRatingsRDD = sc.parallelize(myRatedMovies)\n",
    "trainingWithMyRatingsRDD = trainingRDD.union(myRatingsRDD)\n",
    "\n",
    "myRatingsModel = ALS.train(trainingWithMyRatingsRDD,\n",
    "                           bestRank, \n",
    "                           seed=seed,\n",
    "                           iterations=bestIteretion,\n",
    "                           lambda_=regularizationParameter)\n",
    "\n",
    "\n",
    "myUnratedMoviesRDD = (moviesRDD\n",
    "                      .filter(lambda x: x[0] not in [x[1] for x in myRatedMovies])\n",
    "                      .map(lambda x: (myUserID, x[0])))\n",
    "\n",
    "predictedRatingsRDD = myRatingsModel.predictAll(myUnratedMoviesRDD)\n",
    "predictedRDD = predictedRatingsRDD.map(lambda x: (x[1], x[2]))\n",
    "\n",
    "movieCountsRDD = (ratingsRDD\n",
    "                  .map(lambda x:(x[1], x[2]))\n",
    "                  .groupByKey()\n",
    "                  .map(getCountsAndAverages)\n",
    "                  .map(lambda x: (x[0], x[1][0])))\n",
    "\n",
    "\n",
    "#Marge PredictedRDD and CountsRDD\n",
    "predictedWithCountsRDD  = (predictedRDD\n",
    "                           .join(movieCountsRDD))\n",
    "\n",
    "\n",
    "ratingsWithNamesRDD = (predictedWithCountsRDD\n",
    "                       .filter(lambda x: x[1][1] > 75)\n",
    "                       .join(moviesRDD)\n",
    "                       .map(lambda x: (x[1][0][0], x[1][1], x[1][0][1])))\n",
    "\n",
    "predictedHighestRatedMovies = ratingsWithNamesRDD.takeOrdered(10, key=lambda x: -x[0])\n",
    "print ('My highest rated movies as predicted (for movies with more than 75 reviews):\\n%s' %\n",
    "        '\\n'.join(map(str, predictedHighestRatedMovies)))"
   ]
  }
 ],
 "metadata": {
  "kernelspec": {
   "display_name": "Python 2",
   "language": "python",
   "name": "python2"
  },
  "language_info": {
   "codemirror_mode": {
    "name": "ipython",
    "version": 2
   },
   "file_extension": ".py",
   "mimetype": "text/x-python",
   "name": "python",
   "nbconvert_exporter": "python",
   "pygments_lexer": "ipython2",
   "version": "2.7.11"
  }
 },
 "nbformat": 4,
 "nbformat_minor": 0
}
