{
 "cells": [
  {
   "cell_type": "markdown",
   "metadata": {},
   "source": [
    "## Click-Through Rate Prediction"
   ]
  },
  {
   "cell_type": "markdown",
   "metadata": {},
   "source": [
    "### Overview"
   ]
  },
  {
   "cell_type": "markdown",
   "metadata": {},
   "source": [
    "In this case, the steps for a click-through rate(CTR) prediction pipeline is shown. Dataset comes from a Kaggle competition which includes total of 26 columns of categorical features. These features are converted to numerical dat with one-hot-encoding(OEH). Also feature hushing is applied to reduce dimension of dataset. In terms of modelling, logistic regression with SGD is used and models are evaluated by “log-loss” method."
   ]
  },
  {
   "cell_type": "markdown",
   "metadata": {},
   "source": [
    "### Procedure"
   ]
  },
  {
   "cell_type": "markdown",
   "metadata": {},
   "source": [
    "1. Data handling\n",
    " * Raw data is split into training, validation and test dataset\n",
    "2. One-hot-encoding(Over 233K categories)\n",
    " * Generate OHE dictionary\n",
    " * Convert raw data to OHE dataset\n",
    "3. Construct a logistic regression model with OHE dataset(Model1)\n",
    "4. Reduce feature dimension via feature hashing(Over 3K categories)\n",
    "5. Construct logistic regression models with hushed dataset\n",
    " * Logistic model with default parameters(Model2)\n",
    " * Logistic model with parameters determined by grid search(Model3)\n",
    "6. Comparison between models.\n",
    " * OHE features model (Model1) vs hushed features model (Model2) \n",
    " * Default param model (Model2) vs Grid searched params model (Model3)"
   ]
  },
  {
   "cell_type": "code",
   "execution_count": 1,
   "metadata": {
    "collapsed": true
   },
   "outputs": [],
   "source": [
    "import numpy as np\n",
    "from pyspark.mllib.linalg import SparseVector\n",
    "from pyspark.mllib.regression import LabeledPoint"
   ]
  },
  {
   "cell_type": "markdown",
   "metadata": {},
   "source": [
    "### Raw data is split into training, validation and test dataset"
   ]
  },
  {
   "cell_type": "code",
   "execution_count": 2,
   "metadata": {
    "collapsed": false
   },
   "outputs": [
    {
     "name": "stdout",
     "output_type": "stream",
     "text": [
      "[u'0,1,1,5,0,1382,4,15,2,181,1,2,,2,68fd1e64,80e26c9b,fb936136,7b4723c4,25c83c98,7e0ccccf,de7995b8,1f89b562,a73ee510,a8cd5504,b2cb9c98,37c9c164,2824a5f6,1adce6ef,8ba8b39a,891b62e7,e5ba7672,f54016b9,21ddcdc9,b1252a9d,07b5194c,,3a171ecb,c5c50484,e8b83407,9727dd16']\n",
      "79911 10075 10014 100000\n"
     ]
    }
   ],
   "source": [
    "rawData = (sc.textFile(\"dac_sample.txt\").map(lambda x: x.replace('\\t', ',')))\n",
    "\n",
    "OneSample = rawData.take(1)\n",
    "print OneSample\n",
    "\n",
    "\n",
    "weights = [.8, .1, .1]\n",
    "seed = 42\n",
    "rawTrainData, rawValidationData, rawTestData = rawData.randomSplit(weights, seed)\n",
    "\n",
    "#Cache each datasets as it is used repeatedly\n",
    "rawTrainData.cache()\n",
    "rawValidationData.cache()\n",
    "rawTestData.cache()\n",
    "\n",
    "nTrain = rawTrainData.count()\n",
    "nVal = rawValidationData.count()\n",
    "nTest = rawTestData.count()\n",
    "print nTrain, nVal, nTest, nTrain + nVal + nTest"
   ]
  },
  {
   "cell_type": "markdown",
   "metadata": {
    "collapsed": true
   },
   "source": [
    "### Apply one-hot-encoding(OHE) method"
   ]
  },
  {
   "cell_type": "code",
   "execution_count": 3,
   "metadata": {
    "collapsed": true
   },
   "outputs": [],
   "source": [
    "def createOneHotDict(inputData):\n",
    "    OHEDict = (inputData\n",
    "               .flatMap(lambda x: x)\n",
    "               .distinct()\n",
    "               .zipWithIndex()\n",
    "               .collectAsMap())\n",
    "    return OHEDict\n",
    "\n",
    "\n",
    "def parsePoint(point):\n",
    "    items = point.split(',')\n",
    "    return [(i, item) for i, item in enumerate(items[1:])]\n",
    "    \n",
    "def oneHotEncoding(rawFeats, OHEDict, numOHEFeats):\n",
    "    sizeList = [OHEDict[f] for f in rawFeats if f in OHEDict]\n",
    "    sortedSizeList = sorted(sizeList)\n",
    "    valueList = [1 for f in rawFeats if f in OHEDict ]\n",
    "    return SparseVector(numOHEFeats, sortedSizeList, valueList)\n",
    "\n",
    "\n",
    "def parseOHEPoint(point, OHEDict, numOHEFeats):\n",
    "    parsedPoints = parsePoint(point)\n",
    "    items = point.split(',')\n",
    "    label = items[0]\n",
    "    features = oneHotEncoding(parsedPoints, OHEDict, numOHEFeats)\n",
    "    return LabeledPoint(label, features)"
   ]
  },
  {
   "cell_type": "code",
   "execution_count": 4,
   "metadata": {
    "collapsed": false
   },
   "outputs": [
    {
     "name": "stdout",
     "output_type": "stream",
     "text": [
      "Feature size after OHE:\n",
      "\tNumber of features = 233286\n",
      "[LabeledPoint(0.0, (233286,[386,3077,6799,8264,8862,11800,12802,16125,17551,18566,29331,33132,39525,55794,61786,81396,82659,93573,96929,100677,109699,110646,112132,120260,128596,132397,132803,140620,160675,185498,190370,191146,195925,202664,204273,206055,222737,225958,229942],[1.0,1.0,1.0,1.0,1.0,1.0,1.0,1.0,1.0,1.0,1.0,1.0,1.0,1.0,1.0,1.0,1.0,1.0,1.0,1.0,1.0,1.0,1.0,1.0,1.0,1.0,1.0,1.0,1.0,1.0,1.0,1.0,1.0,1.0,1.0,1.0,1.0,1.0,1.0]))]\n"
     ]
    }
   ],
   "source": [
    "parsedFeat = rawTrainData.map(parsePoint)\n",
    "ctrOHEDict = createOneHotDict(parsedFeat)\n",
    "numCtrOHEFeats = len(ctrOHEDict.keys())\n",
    "\n",
    "\n",
    "OHETrainData = rawTrainData.map(lambda point: parseOHEPoint(point, ctrOHEDict, numCtrOHEFeats)).cache()\n",
    "OHEValidationData = rawValidationData.map(lambda point: parseOHEPoint(point, ctrOHEDict, numCtrOHEFeats)).cache()\n",
    "OHETestData = rawTestData.map(lambda point: parseOHEPoint(point, ctrOHEDict, numCtrOHEFeats)).cache()\n",
    "\n",
    "print ('Feature size after OHE:\\n\\tNumber of features = {0}'\n",
    "       .format(numCtrOHEFeats))\n",
    "\n",
    "print OHETrainData.take(1)"
   ]
  },
  {
   "cell_type": "markdown",
   "metadata": {},
   "source": [
    "### Construct a logistic regression model with OHE dataset(Model1)"
   ]
  },
  {
   "cell_type": "code",
   "execution_count": 5,
   "metadata": {
    "collapsed": false
   },
   "outputs": [],
   "source": [
    "from pyspark.mllib.classification import LogisticRegressionWithSGD\n",
    "\n",
    "numIters = 100\n",
    "stepSize = 1.0\n",
    "regParam = 0.01\n",
    "regType = 'l2'\n",
    "includeIntercept = True\n",
    "\n",
    "model0 = LogisticRegressionWithSGD.train(data = OHETrainData, \n",
    "                                         iterations = numIters, \n",
    "                                         step = stepSize, \n",
    "                                         regParam = regParam,\n",
    "                                         regType = regType,\n",
    "                                         intercept = includeIntercept)"
   ]
  },
  {
   "cell_type": "code",
   "execution_count": 6,
   "metadata": {
    "collapsed": true
   },
   "outputs": [],
   "source": [
    "#Compute loglos\n",
    "from math import log, exp \n",
    "\n",
    "def computeLogLoss(p, y):\n",
    "    epsilon = 10e-12\n",
    "    if y == 1:\n",
    "        return -log(epsilon + p) if p == 0 else -log(p)\n",
    "    elif y == 0:\n",
    "        return -log(1 - p + epsilon) if p == 1 else -log(1 - p)\n",
    "\n",
    "def getP(x, w, intercept):\n",
    "    rawPrediction = x.dot(w) + intercept\n",
    "\n",
    "    # Bound the raw prediction value\n",
    "    rawPrediction = min(rawPrediction, 20)\n",
    "    rawPrediction = max(rawPrediction, -20)\n",
    "    return 1.0 / (1.0 + exp(-rawPrediction))\n",
    "\n",
    "def evaluateResults(model, data):\n",
    "    return data.map(lambda x: computeLogLoss(getP(x.features, model.weights, model.intercept), x.label)).sum() / data.count()"
   ]
  },
  {
   "cell_type": "code",
   "execution_count": 7,
   "metadata": {
    "collapsed": false
   },
   "outputs": [
    {
     "name": "stdout",
     "output_type": "stream",
     "text": [
      "Validation Logloss for model1:\n",
      "\t = 0.482516616442\n"
     ]
    }
   ],
   "source": [
    "logLossValLR0 = evaluateResults(model0, OHEValidationData)\n",
    "print ('Validation Logloss for model1:\\n\\t = {0}'\n",
    "       .format(logLossValLR0))"
   ]
  },
  {
   "cell_type": "code",
   "execution_count": 8,
   "metadata": {
    "collapsed": true
   },
   "outputs": [],
   "source": [
    "### Plot ROC curve "
   ]
  },
  {
   "cell_type": "code",
   "execution_count": 9,
   "metadata": {
    "collapsed": false
   },
   "outputs": [
    {
     "data": {
      "text/plain": [
       "[<matplotlib.lines.Line2D at 0x7f56e0d61a10>]"
      ]
     },
     "execution_count": 9,
     "metadata": {},
     "output_type": "execute_result"
    },
    {
     "data": {
      "image/png": "[encoded data removed]",
      "text/plain": [
       "<matplotlib.figure.Figure at 0x7f56e140ad90>"
      ]
     },
     "metadata": {},
     "output_type": "display_data"
    }
   ],
   "source": [
    "labelsAndScores = OHEValidationData.map(lambda lp: (lp.label, getP(lp.features, model0.weights, model0.intercept)))\n",
    "labelsAndWeights = labelsAndScores.collect()\n",
    "labelsAndWeights.sort(key=lambda (k, v): v, reverse=True)\n",
    "labelsByWeight = np.array([k for (k, v) in labelsAndWeights])\n",
    "\n",
    "length = labelsByWeight.size\n",
    "truePositives = labelsByWeight.cumsum()\n",
    "numPositive = truePositives[-1]\n",
    "falsePositives = np.arange(1.0, length + 1, 1.) - truePositives\n",
    "\n",
    "truePositiveRate = truePositives / numPositive\n",
    "falsePositiveRate = falsePositives / (length - numPositive)\n",
    "\n",
    "import matplotlib.pyplot as plt\n",
    "%matplotlib inline\n",
    "\n",
    "fig = plt.figure()\n",
    "ax = plt.subplot(111)\n",
    "\n",
    "ax.set_xlim(-.05, 1.05), ax.set_ylim(-.05, 1.05)\n",
    "ax.set_ylabel('True Positive Rate (Sensitivity)')\n",
    "ax.set_xlabel('False Positive Rate (1 - Specificity)')\n",
    "plt.plot(falsePositiveRate, truePositiveRate, color='#8cbfd0', linestyle='-', linewidth=3.)\n",
    "plt.plot((0., 1.), (0., 1.), linestyle='--', color='#d6ebf2', linewidth=2.)"
   ]
  },
  {
   "cell_type": "markdown",
   "metadata": {},
   "source": [
    "## Reduce feature dimension via feature hashing"
   ]
  },
  {
   "cell_type": "code",
   "execution_count": 10,
   "metadata": {
    "collapsed": false
   },
   "outputs": [
    {
     "name": "stdout",
     "output_type": "stream",
     "text": [
      "Feature size after hushing:\n",
      "\tNumber of features = 32768\n",
      "[LabeledPoint(0.0, (32768,[1305,2883,3807,4814,4866,4913,6952,7117,9985,10316,11512,11722,12365,13893,14735,15816,16198,17761,19274,21604,22256,22563,22785,24855,25202,25533,25721,26487,26656,27668,28211,29152,29402,29873,30039,31484,32493,32708],[1.0,1.0,1.0,1.0,1.0,1.0,1.0,1.0,1.0,1.0,1.0,1.0,1.0,1.0,1.0,1.0,1.0,1.0,1.0,1.0,1.0,1.0,1.0,1.0,1.0,1.0,1.0,1.0,1.0,1.0,1.0,1.0,1.0,1.0,1.0,1.0,1.0,1.0]))]\n"
     ]
    }
   ],
   "source": [
    "from collections import defaultdict\n",
    "import hashlib\n",
    "\n",
    "def hashFunction(numBuckets, rawFeats, printMapping=False):\n",
    "    mapping = {}\n",
    "    for ind, category in rawFeats:\n",
    "        featureString = category + str(ind)\n",
    "        mapping[featureString] = int(int(hashlib.md5(featureString).hexdigest(), 16) % numBuckets)\n",
    "    sparseFeatures = defaultdict(float)\n",
    "    for bucket in mapping.values():\n",
    "        sparseFeatures[bucket] += 1.0\n",
    "    return dict(sparseFeatures)\n",
    "\n",
    "\n",
    "def parseHashPoint(point, numBuckets):\n",
    "    parsedPoints = parsePoint(point)\n",
    "    items = point.split(',')\n",
    "    label = items[0]\n",
    "    features = hashFunction(numBuckets, parsedPoints, printMapping=False)\n",
    "    return LabeledPoint(label, SparseVector(numBuckets, features))\n",
    "\n",
    "numBucketsCTR = 2 ** 15\n",
    "hashTrainData = rawTrainData.map(lambda x: parseHashPoint(x, numBucketsCTR))\n",
    "hashTrainData.cache()\n",
    "hashValidationData = rawValidationData.map(lambda x: parseHashPoint(x, numBucketsCTR))\n",
    "hashValidationData.cache()\n",
    "hashTestData = rawTestData.map(lambda x: parseHashPoint(x, numBucketsCTR))\n",
    "hashTestData.cache()\n",
    "\n",
    "print ('Feature size after hushing:\\n\\tNumber of features = {0}'\n",
    "       .format(numBucketsCTR))\n",
    "\n",
    "print hashTrainData.take(1)"
   ]
  },
  {
   "cell_type": "markdown",
   "metadata": {},
   "source": [
    "### Construct a logistic regression model with hushed dataset(Model2)"
   ]
  },
  {
   "cell_type": "code",
   "execution_count": 11,
   "metadata": {
    "collapsed": false,
    "scrolled": true
   },
   "outputs": [
    {
     "name": "stdout",
     "output_type": "stream",
     "text": [
      "Validation Logloss for model1:\n",
      "\t = 0.482691122185\n"
     ]
    }
   ],
   "source": [
    "numIters = 100\n",
    "stepSize = 1.0\n",
    "regParam = 0.01\n",
    "regType = 'l2'\n",
    "includeIntercept = True\n",
    "\n",
    "model1 = LogisticRegressionWithSGD.train(data = hashTrainData, \n",
    "                                         iterations = numIters, \n",
    "                                         step = stepSize, \n",
    "                                         regParam = regParam,\n",
    "                                         regType = regType,\n",
    "                                         intercept = includeIntercept)\n",
    "\n",
    "logLossValLR1 = evaluateResults(model1, hashValidationData)\n",
    "print ('Validation Logloss for model1:\\n\\t = {0}'\n",
    "       .format(logLossValLR1))"
   ]
  },
  {
   "cell_type": "markdown",
   "metadata": {},
   "source": [
    "### Construct a logistic regression model with hushed dataset and grid searched parameters (Model3)"
   ]
  },
  {
   "cell_type": "code",
   "execution_count": 12,
   "metadata": {
    "collapsed": false,
    "scrolled": false
   },
   "outputs": [
    {
     "name": "stdout",
     "output_type": "stream",
     "text": [
      "best parameters:\n",
      "\tBest Stepsize = 7.000\n",
      "\tBest Rarams = 0.000\n",
      "1e-07 [[ 0.51910013  0.51910015  0.51910029  0.51910175  0.51911634  0.51926454]\n",
      " [ 0.48589729  0.4858974   0.48589847  0.48590921  0.48605802  0.48715278]\n",
      " [ 0.47476165  0.47476184  0.47476375  0.47478289  0.4750353   0.47731296]\n",
      " [ 0.46130496  0.46130542  0.46131004  0.46137622  0.46208485  0.46799094]\n",
      " [ 0.45587263  0.45587339  0.45588094  0.45600577  0.45715016  0.465792  ]\n",
      " [ 0.45268179  0.45268281  0.45270706  0.45286577  0.45438559  0.46488834]]\n"
     ]
    },
    {
     "data": {
      "image/png": "[encoded data removed]",
      "text/plain": [
       "<matplotlib.figure.Figure at 0x7f56e0e62a10>"
      ]
     },
     "metadata": {},
     "output_type": "display_data"
    }
   ],
   "source": [
    "numIters = 500\n",
    "stepSizes = [0.1, 0.5, 1, 3, 5, 7]\n",
    "regParams = [1e-7, 1e-6, 1e-5, 1e-4, 1e-3, 1e-2]\n",
    "regType = 'l2'\n",
    "includeIntercept = True\n",
    "\n",
    "\n",
    "# Initialize variables using values from initial model training\n",
    "bestModel = None\n",
    "bestLogLoss = 1e10\n",
    "logLoss = np.zeros((len(stepSizes),len(regParams)))\n",
    "\n",
    "for i in xrange(len(stepSizes)):\n",
    "    for j in xrange(len(regParams)):\n",
    "        model = LogisticRegressionWithSGD.train(data = hashTrainData, \n",
    "                                                iterations = numIters, \n",
    "                                                step = stepSizes[i], \n",
    "                                                regParam = regParams[j],\n",
    "                                                regType = regType,\n",
    "                                                intercept = includeIntercept)\n",
    "        \n",
    "        logLoss[i, j] = evaluateResults(model, hashValidationData)\n",
    "        \n",
    "        if (logLoss[i, j] < bestLogLoss):\n",
    "            bestModel = model\n",
    "            bestStepsize = stepSizes[i]\n",
    "            bestParams = regParams[j]\n",
    "            bestLogLoss = logLoss[i,j]\n",
    "            \n",
    "\n",
    "print ('best parameters:\\n\\tBest Stepsize = {0:.3f}\\n\\tBest Rarams = {1:.3f}'\n",
    "       .format(bestStepsize, bestParams))\n",
    "\n",
    "print bestParams,logLoss\n",
    "\n",
    "%matplotlib inline\n",
    "from matplotlib.colors import LinearSegmentedColormap\n",
    "\n",
    "\n",
    "numRows, numCols = len(stepSizes), len(regParams)\n",
    "logLoss = np.array(logLoss)\n",
    "logLoss.shape = (numRows, numCols)\n",
    "\n",
    "fig = plt.figure()\n",
    "ax = plt.subplot(111)\n",
    "\n",
    "\n",
    "ax.set_xticklabels(regParams), ax.set_yticklabels(stepSizes)\n",
    "ax.set_xlabel('Regularization Parameter'), ax.set_ylabel('Step Size')\n",
    "\n",
    "colors = LinearSegmentedColormap.from_list('blue', ['#0022ff', '#000055'], gamma=.2)\n",
    "image = plt.imshow(logLoss,interpolation='nearest', aspect='auto',\n",
    "                    cmap = colors)\n",
    "pass"
   ]
  },
  {
   "cell_type": "markdown",
   "metadata": {},
   "source": [
    "### Logloss comparison between models"
   ]
  },
  {
   "cell_type": "markdown",
   "metadata": {},
   "source": [
    "Fearture reduction has no impact on prediction of regression model. Parameters selected via grid search seems works well. "
   ]
  },
  {
   "cell_type": "code",
   "execution_count": 13,
   "metadata": {
    "collapsed": false
   },
   "outputs": [
    {
     "name": "stdout",
     "output_type": "stream",
     "text": [
      "OHECoding & Hashed Features Test Logloss:\n",
      "\tOHEModel = 0.490\n",
      "\thashModel = 0.490\n",
      "Hashed Features Validation Test Logloss:\n",
      "\tBaseModel = 0.490\n",
      "\tBestModel = 0.460\n"
     ]
    }
   ],
   "source": [
    "logLossTestLR0 = evaluateResults(model0, OHETestData)\n",
    "logLossTestLR1 = evaluateResults(model1, hashTestData)\n",
    "logLossTestLRbest = evaluateResults(bestModel, hashTestData)\n",
    "\n",
    "print ('OHECoding & Hashed Features Test Logloss:\\n\\tOHEModel = {0:.3f}\\n\\thashModel = {1:.3f}'\n",
    "       .format(logLossTestLR0, logLossTestLR1))\n",
    "\n",
    "print ('Hashed Features Validation Test Logloss:\\n\\tBaseModel = {0:.3f}\\n\\tBestModel = {1:.3f}'\n",
    "       .format(logLossTestLR1, logLossTestLRbest))"
   ]
  },
  {
   "cell_type": "code",
   "execution_count": null,
   "metadata": {
    "collapsed": true
   },
   "outputs": [],
   "source": []
  },
  {
   "cell_type": "code",
   "execution_count": null,
   "metadata": {
    "collapsed": true
   },
   "outputs": [],
   "source": []
  }
 ],
 "metadata": {
  "kernelspec": {
   "display_name": "Python 2",
   "language": "python",
   "name": "python2"
  },
  "language_info": {
   "codemirror_mode": {
    "name": "ipython",
    "version": 2
   },
   "file_extension": ".py",
   "mimetype": "text/x-python",
   "name": "python",
   "nbconvert_exporter": "python",
   "pygments_lexer": "ipython2",
   "version": "2.7.11"
  }
 },
 "nbformat": 4,
 "nbformat_minor": 0
}
